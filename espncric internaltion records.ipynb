{
 "cells": [
  {
   "cell_type": "markdown",
   "metadata": {},
   "source": [
    "T20 International First Page Scraped of 2022/23"
   ]
  },
  {
   "cell_type": "code",
   "execution_count": 1,
   "metadata": {},
   "outputs": [],
   "source": [
    "from selenium import webdriver             ### Importing some libraries which I am gonna use in this \n",
    "from selenium.webdriver.common.by import By\n",
    "from selenium.webdriver.common.keys import Keys\n",
    "import time\n",
    "from selenium.webdriver.support.ui import WebDriverWait\n",
    "from selenium.webdriver.support import expected_conditions as EC\n",
    "import pandas as pd \n",
    "import numpy as np \n",
    "import warnings\n",
    "warnings.filterwarnings('ignore')\n",
    "from bs4 import BeautifulSoup\n",
    "import time\n",
    "import random \n",
    "import re\n",
    "import json\n",
    "import requests\n",
    "import xml.etree.ElementTree as ET\n",
    "from urllib.parse import urlparse\n",
    "from datetime import timedelta\n",
    "from datetime import datetime"
   ]
  },
  {
   "cell_type": "code",
   "execution_count": 2,
   "metadata": {},
   "outputs": [],
   "source": [
    "url='https://www.espncricinfo.com/records/year/team-series-results/2022-2022/twenty20-internationals-3'  # url of the Website where you want to scrape the data"
   ]
  },
  {
   "cell_type": "code",
   "execution_count": 3,
   "metadata": {},
   "outputs": [
    {
     "name": "stdout",
     "output_type": "stream",
     "text": [
      "<Response [200]>\n"
     ]
    }
   ],
   "source": [
    "res=requests.get(url)\n",
    "print(res)"
   ]
  },
  {
   "cell_type": "code",
   "execution_count": 4,
   "metadata": {},
   "outputs": [],
   "source": [
    "soup=BeautifulSoup(res.content,'html.parser')"
   ]
  },
  {
   "cell_type": "code",
   "execution_count": 5,
   "metadata": {},
   "outputs": [],
   "source": [
    "a=soup.find_all('h1',class_='ds-text-title-m ds-font-bold ds-my-4')\n",
    "a=soup.find_all('span',class_='ds-cursor-pointer')\n",
    "\n",
    "a=soup.find_all('span',class_='ds-text-tight-s ds-font-regular ds-text-typo-primary hover:ds-text-typo-primary-hover ds-block')\n",
    "\n",
    "\n",
    "\n"
   ]
  },
  {
   "cell_type": "code",
   "execution_count": 6,
   "metadata": {},
   "outputs": [],
   "source": [
    "teams=[]\n",
    "for i in a:\n",
    "    teams.append(i.get_text(strip=True))"
   ]
  },
  {
   "cell_type": "code",
   "execution_count": 7,
   "metadata": {},
   "outputs": [
    {
     "data": {
      "text/plain": [
       "['England in West Indies T20I Series',\n",
       " 'Oman Quadrangular T20I Series (Ireland, Nepal, Oman, United Arab Emirates)',\n",
       " 'West Indies in India T20I Series',\n",
       " 'Sri Lanka in Australia T20I Series',\n",
       " \"ICC Men's T20 World Cup Qualifier A (in Oman)\",\n",
       " 'Sri Lanka in India T20I Series',\n",
       " 'Afghanistan in Bangladesh T20I Series',\n",
       " 'Nepal Tri-Nation T20I Series (Malaysia, Nepal, Papua New Guinea)',\n",
       " 'Australia in Pakistan T20I Match',\n",
       " 'Uganda in Namibia T20I Series',\n",
       " 'Bahamas in Cayman Islands T20I Series',\n",
       " 'Spain Triangular T20I Series (Guernsey, Norway, Spain)',\n",
       " 'Finland in Denmark T20I Series',\n",
       " 'Valletta Cup (Bulgaria, Czech Republic, Gibraltar, Hungary, Malta, Romania in Malta)',\n",
       " 'Inter-Insular T20 Series (Jersey in Guernsey)',\n",
       " 'Namibia in Zimbabwe T20I Series',\n",
       " 'Hungary in Austria T20I Series',\n",
       " 'Australia in Sri Lanka T20I Series',\n",
       " 'Switzerland in Luxembourg T20I Series',\n",
       " 'Germany T20 Tri-Series (Austria, Germany, Sweden)',\n",
       " 'Malta in Belgium T20I Series',\n",
       " 'Afghanistan in Zimbabwe T20I Series',\n",
       " 'Estonia in Finland T20I Series',\n",
       " 'South Africa in India T20I Series',\n",
       " 'Sofia Twenty20 (Serbia in Bulgaria)',\n",
       " 'India in Ireland T20I Series',\n",
       " 'Stan Nagaiah Trophy (Malaysia in Singapore)',\n",
       " 'Singa Championship Series (Papua New Guinea in Singapore)',\n",
       " \"ICC Men's T20 World Cup Sub Regional Europe Qualifier Group C (in Belgium)\",\n",
       " 'Bangladesh in West Indies T20I Series',\n",
       " 'Bulgaria in Serbia T20I Series',\n",
       " 'India in England T20I Series',\n",
       " 'Central Europe Cup (Austria, Czech Republic, Luxembourg in Czech Republic)',\n",
       " 'Quadrangular Twenty20 Series (Malaysia) (Bhutan, Malaysia, Maldives, Thailand in Malaysia)',\n",
       " \"ICC Men's T20 World Cup Qualifier (in Zimbabwe)\",\n",
       " \"ICC Men's T20 World Cup Sub Regional Europe Qualifier Group A (in Finland)\",\n",
       " 'New Zealand in Ireland T20I Series',\n",
       " 'New Zealand in Scotland T20I Series',\n",
       " 'Mozambique in Eswatini T20I Series',\n",
       " 'South Africa in England T20I Series',\n",
       " \"ICC Men's T20 World Cup Sub Regional Europe Qualifier Group B (in Finland)\",\n",
       " 'Bangladesh in Zimbabwe T20I Series',\n",
       " 'New Zealand in Netherlands T20I Series',\n",
       " 'South Africa v Ireland T20I Series (in England)',\n",
       " 'West Indies v India T20I Series (in United States of America/West Indies)',\n",
       " 'New Zealand in West Indies T20I Series',\n",
       " 'Bahrain v Kuwait T20I Series (in Oman)',\n",
       " 'Afghanistan in Ireland T20I Series',\n",
       " \"Men's T20 Asia Cup Qualifier (Hong Kong, Kuwait, Singapore, United Arab Emirates in Oman)\",\n",
       " 'Nepal in Kenya T20I Series',\n",
       " \"Men's T20 Asia Cup (Afghanistan, Bangladesh, Hong Kong, India, Pakistan, Sri Lanka in United Arab Emirates)\",\n",
       " \"ICC Men's T20 World Cup East Asia-Pacific Region Qualifier A (Cook Islands, Fiji, Samoa, Vanuatu in Vanuatu)\",\n",
       " 'Africa Cricket Association Cup (in South Africa)',\n",
       " 'Australia in India T20I Series',\n",
       " 'Bangladesh in United Arab Emirates T20I Series',\n",
       " 'England in Pakistan T20I Series',\n",
       " 'South Africa in India T20I Series',\n",
       " 'West Indies in Australia T20I Series',\n",
       " 'Indonesia in Japan T20I Series',\n",
       " 'New Zealand T20I Tri-Series (Bangladesh, New Zealand, Pakistan)',\n",
       " 'England in Australia T20I Series',\n",
       " \"ICC Men's T20 World Cup East Asia-Pacific Region Qualifier B (Indonesia, Japan, South Korea in Japan)\",\n",
       " 'Spain Triangular T20I Series (Germany, Italy, Spain)',\n",
       " 'Rwanda in Tanzania T20I Series',\n",
       " \"ICC Men's T20 World Cup (in Australia)\",\n",
       " 'Desert Cup T20I Series (Bahrain, Canada, Oman, Saudi Arabia in Oman)',\n",
       " 'India in New Zealand T20I Series',\n",
       " \"ICC Men's T20 World Cup Sub Regional Africa Qualifier Group A (in Rwanda)\",\n",
       " \"ICC Men's T20 World Cup Sub Regional Africa Qualifier Group B (in Rwanda)\",\n",
       " 'Quadrangular Twenty20 Series (Malaysia) (Bahrain, Malaysia, Qatar, Singapore in Malaysia)',\n",
       " 'Tri-Nation T20 Cup (Rwanda) (Rwanda, Tanzania, Uganda in Rwanda)']"
      ]
     },
     "execution_count": 7,
     "metadata": {},
     "output_type": "execute_result"
    }
   ],
   "source": [
    "teams"
   ]
  },
  {
   "cell_type": "code",
   "execution_count": 8,
   "metadata": {},
   "outputs": [],
   "source": [
    "a=soup.find_all('td',class_='ds-min-w-max ds-text-right')\n"
   ]
  },
  {
   "cell_type": "code",
   "execution_count": 9,
   "metadata": {},
   "outputs": [
    {
     "name": "stdout",
     "output_type": "stream",
     "text": [
      "[<td class=\"ds-min-w-max ds-text-right\"><div class=\"ds-popper-wrapper\"><span class=\"ds-cursor-pointer\">Season</span></div></td>, <td class=\"ds-min-w-max ds-text-right\"><div class=\"ds-popper-wrapper\"><span class=\"ds-cursor-pointer\">Winner</span></div></td>, <td class=\"ds-min-w-max ds-text-right\"><div class=\"ds-popper-wrapper\"><span class=\"ds-cursor-pointer\">Margin</span></div></td>, <td class=\"ds-min-w-max ds-text-right\"><span class=\"\">2021/22</span></td>, <td class=\"ds-min-w-max ds-text-right\"><span class=\"\">West Indies</span></td>, <td class=\"ds-min-w-max ds-text-right\"><span class=\"\">3-2 (5)</span></td>, <td class=\"ds-min-w-max ds-text-right\"><span class=\"\">2021/22</span></td>, <td class=\"ds-min-w-max ds-text-right\"><span class=\"\">U.A.E.</span></td>, <td class=\"ds-min-w-max ds-text-right\"><span class=\"\">-</span></td>, <td class=\"ds-min-w-max ds-text-right\"><span class=\"\">2021/22</span></td>, <td class=\"ds-min-w-max ds-text-right\"><span class=\"\">India</span></td>, <td class=\"ds-min-w-max ds-text-right\"><span class=\"\">3-0 (3)</span></td>, <td class=\"ds-min-w-max ds-text-right\"><span class=\"\">2021/22</span></td>, <td class=\"ds-min-w-max ds-text-right\"><span class=\"\">Australia</span></td>, <td class=\"ds-min-w-max ds-text-right\"><span class=\"\">4-1 (5)</span></td>, <td class=\"ds-min-w-max ds-text-right\"><span class=\"\">2021/22</span></td>, <td class=\"ds-min-w-max ds-text-right\"><span class=\"\">U.A.E.</span></td>, <td class=\"ds-min-w-max ds-text-right\"><span class=\"\">-</span></td>, <td class=\"ds-min-w-max ds-text-right\"><span class=\"\">2021/22</span></td>, <td class=\"ds-min-w-max ds-text-right\"><span class=\"\">India</span></td>, <td class=\"ds-min-w-max ds-text-right\"><span class=\"\">3-0 (3)</span></td>, <td class=\"ds-min-w-max ds-text-right\"><span class=\"\">2021/22</span></td>, <td class=\"ds-min-w-max ds-text-right\"><span class=\"\">drawn</span></td>, <td class=\"ds-min-w-max ds-text-right\"><span class=\"\">1-1 (2)</span></td>, <td class=\"ds-min-w-max ds-text-right\"><span class=\"\">2021/22</span></td>, <td class=\"ds-min-w-max ds-text-right\"><span class=\"\">Nepal</span></td>, <td class=\"ds-min-w-max ds-text-right\"><span class=\"\">-</span></td>, <td class=\"ds-min-w-max ds-text-right\"><span class=\"\">2021/22</span></td>, <td class=\"ds-min-w-max ds-text-right\"><span class=\"\">Australia</span></td>, <td class=\"ds-min-w-max ds-text-right\"><span class=\"\">1-0 (1)</span></td>, <td class=\"ds-min-w-max ds-text-right\"><span class=\"\">2022</span></td>, <td class=\"ds-min-w-max ds-text-right\"><span class=\"\">Namibia</span></td>, <td class=\"ds-min-w-max ds-text-right\"><span class=\"\">2-1 (3)</span></td>, <td class=\"ds-min-w-max ds-text-right\"><span class=\"\">2022</span></td>, <td class=\"ds-min-w-max ds-text-right\"><span class=\"\">Cayman Is</span></td>, <td class=\"ds-min-w-max ds-text-right\"><span class=\"\">5-0 (5)</span></td>, <td class=\"ds-min-w-max ds-text-right\"><span class=\"\">2022</span></td>, <td class=\"ds-min-w-max ds-text-right\"><span class=\"\">Spain</span></td>, <td class=\"ds-min-w-max ds-text-right\"><span class=\"\">-</span></td>, <td class=\"ds-min-w-max ds-text-right\"><span class=\"\">2022</span></td>, <td class=\"ds-min-w-max ds-text-right\"><span class=\"\">Denmark</span></td>, <td class=\"ds-min-w-max ds-text-right\"><span class=\"\">2-1 (3)</span></td>, <td class=\"ds-min-w-max ds-text-right\"><span class=\"\">2022</span></td>, <td class=\"ds-min-w-max ds-text-right\"><span class=\"\">Romania</span></td>, <td class=\"ds-min-w-max ds-text-right\"><span class=\"\">-</span></td>, <td class=\"ds-min-w-max ds-text-right\"><span class=\"\">2022</span></td>, <td class=\"ds-min-w-max ds-text-right\"><span class=\"\">Jersey</span></td>, <td class=\"ds-min-w-max ds-text-right\"><span class=\"\">3-0 (3)</span></td>, <td class=\"ds-min-w-max ds-text-right\"><span class=\"\">2022</span></td>, <td class=\"ds-min-w-max ds-text-right\"><span class=\"\">Namibia</span></td>, <td class=\"ds-min-w-max ds-text-right\"><span class=\"\">3-2 (5)</span></td>, <td class=\"ds-min-w-max ds-text-right\"><span class=\"\">2022</span></td>, <td class=\"ds-min-w-max ds-text-right\"><span class=\"\">drawn</span></td>, <td class=\"ds-min-w-max ds-text-right\"><span class=\"\">1-1 (3)</span></td>, <td class=\"ds-min-w-max ds-text-right\"><span class=\"\">2022</span></td>, <td class=\"ds-min-w-max ds-text-right\"><span class=\"\">Australia</span></td>, <td class=\"ds-min-w-max ds-text-right\"><span class=\"\">2-1 (3)</span></td>, <td class=\"ds-min-w-max ds-text-right\"><span class=\"\">2022</span></td>, <td class=\"ds-min-w-max ds-text-right\"><span class=\"\">drawn</span></td>, <td class=\"ds-min-w-max ds-text-right\"><span class=\"\">1-1 (2)</span></td>, <td class=\"ds-min-w-max ds-text-right\"><span class=\"\">2022</span></td>, <td class=\"ds-min-w-max ds-text-right\"><span class=\"\">Germany</span></td>, <td class=\"ds-min-w-max ds-text-right\"><span class=\"\">-</span></td>, <td class=\"ds-min-w-max ds-text-right\"><span class=\"\">2022</span></td>, <td class=\"ds-min-w-max ds-text-right\"><span class=\"\">Belgium</span></td>, <td class=\"ds-min-w-max ds-text-right\"><span class=\"\">3-0 (3)</span></td>, <td class=\"ds-min-w-max ds-text-right\"><span class=\"\">2022</span></td>, <td class=\"ds-min-w-max ds-text-right\"><span class=\"\">Afghanistan</span></td>, <td class=\"ds-min-w-max ds-text-right\"><span class=\"\">3-0 (3)</span></td>, <td class=\"ds-min-w-max ds-text-right\"><span class=\"\">2022</span></td>, <td class=\"ds-min-w-max ds-text-right\"><span class=\"\">Finland</span></td>, <td class=\"ds-min-w-max ds-text-right\"><span class=\"\">2-0 (2)</span></td>, <td class=\"ds-min-w-max ds-text-right\"><span class=\"\">2022</span></td>, <td class=\"ds-min-w-max ds-text-right\"><span class=\"\">drawn</span></td>, <td class=\"ds-min-w-max ds-text-right\"><span class=\"\">2-2 (5)</span></td>, <td class=\"ds-min-w-max ds-text-right\"><span class=\"\">2022</span></td>, <td class=\"ds-min-w-max ds-text-right\"><span class=\"\">Bulgaria</span></td>, <td class=\"ds-min-w-max ds-text-right\"><span class=\"\">4-0 (4)</span></td>, <td class=\"ds-min-w-max ds-text-right\"><span class=\"\">2022</span></td>, <td class=\"ds-min-w-max ds-text-right\"><span class=\"\">India</span></td>, <td class=\"ds-min-w-max ds-text-right\"><span class=\"\">2-0 (2)</span></td>, <td class=\"ds-min-w-max ds-text-right\"><span class=\"\">2022</span></td>, <td class=\"ds-min-w-max ds-text-right\"><span class=\"\">Malaysia</span></td>, <td class=\"ds-min-w-max ds-text-right\"><span class=\"\">2-1 (3)</span></td>, <td class=\"ds-min-w-max ds-text-right\"><span class=\"\">2022</span></td>, <td class=\"ds-min-w-max ds-text-right\"><span class=\"\">drawn</span></td>, <td class=\"ds-min-w-max ds-text-right\"><span class=\"\">1-1 (3)</span></td>, <td class=\"ds-min-w-max ds-text-right\"><span class=\"\">2022</span></td>, <td class=\"ds-min-w-max ds-text-right\"><span class=\"\">Denmark</span></td>, <td class=\"ds-min-w-max ds-text-right\"><span class=\"\">-</span></td>, <td class=\"ds-min-w-max ds-text-right\"><span class=\"\">2022</span></td>, <td class=\"ds-min-w-max ds-text-right\"><span class=\"\">West Indies</span></td>, <td class=\"ds-min-w-max ds-text-right\"><span class=\"\">2-0 (3)</span></td>, <td class=\"ds-min-w-max ds-text-right\"><span class=\"\">2022</span></td>, <td class=\"ds-min-w-max ds-text-right\"><span class=\"\">Serbia</span></td>, <td class=\"ds-min-w-max ds-text-right\"><span class=\"\">2-1 (3)</span></td>, <td class=\"ds-min-w-max ds-text-right\"><span class=\"\">2022</span></td>, <td class=\"ds-min-w-max ds-text-right\"><span class=\"\">India</span></td>, <td class=\"ds-min-w-max ds-text-right\"><span class=\"\">2-1 (3)</span></td>, <td class=\"ds-min-w-max ds-text-right\"><span class=\"\">2022</span></td>, <td class=\"ds-min-w-max ds-text-right\"><span class=\"\">Czech Rep.</span></td>, <td class=\"ds-min-w-max ds-text-right\"><span class=\"\">-</span></td>, <td class=\"ds-min-w-max ds-text-right\"><span class=\"\">2022</span></td>, <td class=\"ds-min-w-max ds-text-right\"><span class=\"\">Malaysia</span></td>, <td class=\"ds-min-w-max ds-text-right\"><span class=\"\">-</span></td>, <td class=\"ds-min-w-max ds-text-right\"><span class=\"\">2022</span></td>, <td class=\"ds-min-w-max ds-text-right\"><span class=\"\">Zimbabwe</span></td>, <td class=\"ds-min-w-max ds-text-right\"><span class=\"\">-</span></td>, <td class=\"ds-min-w-max ds-text-right\"><span class=\"\">2022</span></td>, <td class=\"ds-min-w-max ds-text-right\"><span class=\"\">Italy</span></td>, <td class=\"ds-min-w-max ds-text-right\"><span class=\"\">-</span></td>, <td class=\"ds-min-w-max ds-text-right\"><span class=\"\">2022</span></td>, <td class=\"ds-min-w-max ds-text-right\"><span class=\"\">New Zealand</span></td>, <td class=\"ds-min-w-max ds-text-right\"><span class=\"\">3-0 (3)</span></td>, <td class=\"ds-min-w-max ds-text-right\"><span class=\"\">2022</span></td>, <td class=\"ds-min-w-max ds-text-right\"><span class=\"\">New Zealand</span></td>, <td class=\"ds-min-w-max ds-text-right\"><span class=\"\">2-0 (2)</span></td>, <td class=\"ds-min-w-max ds-text-right\"><span class=\"\">2022</span></td>, <td class=\"ds-min-w-max ds-text-right\"><span class=\"\">Mozambique</span></td>, <td class=\"ds-min-w-max ds-text-right\"><span class=\"\">6-0 (6)</span></td>, <td class=\"ds-min-w-max ds-text-right\"><span class=\"\">2022</span></td>, <td class=\"ds-min-w-max ds-text-right\"><span class=\"\">South Africa</span></td>, <td class=\"ds-min-w-max ds-text-right\"><span class=\"\">2-1 (3)</span></td>, <td class=\"ds-min-w-max ds-text-right\"><span class=\"\">2022</span></td>, <td class=\"ds-min-w-max ds-text-right\"><span class=\"\">Austria</span></td>, <td class=\"ds-min-w-max ds-text-right\"><span class=\"\">-</span></td>, <td class=\"ds-min-w-max ds-text-right\"><span class=\"\">2022</span></td>, <td class=\"ds-min-w-max ds-text-right\"><span class=\"\">Zimbabwe</span></td>, <td class=\"ds-min-w-max ds-text-right\"><span class=\"\">2-1 (3)</span></td>, <td class=\"ds-min-w-max ds-text-right\"><span class=\"\">2022</span></td>, <td class=\"ds-min-w-max ds-text-right\"><span class=\"\">New Zealand</span></td>, <td class=\"ds-min-w-max ds-text-right\"><span class=\"\">2-0 (2)</span></td>, <td class=\"ds-min-w-max ds-text-right\"><span class=\"\">2022</span></td>, <td class=\"ds-min-w-max ds-text-right\"><span class=\"\">South Africa</span></td>, <td class=\"ds-min-w-max ds-text-right\"><span class=\"\">2-0 (2)</span></td>, <td class=\"ds-min-w-max ds-text-right\"><span class=\"\">2022</span></td>, <td class=\"ds-min-w-max ds-text-right\"><span class=\"\">India</span></td>, <td class=\"ds-min-w-max ds-text-right\"><span class=\"\">4-1 (5)</span></td>, <td class=\"ds-min-w-max ds-text-right\"><span class=\"\">2022</span></td>, <td class=\"ds-min-w-max ds-text-right\"><span class=\"\">New Zealand</span></td>, <td class=\"ds-min-w-max ds-text-right\"><span class=\"\">2-1 (3)</span></td>, <td class=\"ds-min-w-max ds-text-right\"><span class=\"\">2022</span></td>, <td class=\"ds-min-w-max ds-text-right\"><span class=\"\">Kuwait</span></td>, <td class=\"ds-min-w-max ds-text-right\"><span class=\"\">4-1 (5)</span></td>, <td class=\"ds-min-w-max ds-text-right\"><span class=\"\">2022</span></td>, <td class=\"ds-min-w-max ds-text-right\"><span class=\"\">Ireland</span></td>, <td class=\"ds-min-w-max ds-text-right\"><span class=\"\">3-2 (5)</span></td>, <td class=\"ds-min-w-max ds-text-right\"><span class=\"\">2022</span></td>, <td class=\"ds-min-w-max ds-text-right\"><span class=\"\">Hong Kong</span></td>, <td class=\"ds-min-w-max ds-text-right\"><span class=\"\">-</span></td>, <td class=\"ds-min-w-max ds-text-right\"><span class=\"\">2022</span></td>, <td class=\"ds-min-w-max ds-text-right\"><span class=\"\">Nepal</span></td>, <td class=\"ds-min-w-max ds-text-right\"><span class=\"\">3-2 (5)</span></td>, <td class=\"ds-min-w-max ds-text-right\"><span class=\"\">2022</span></td>, <td class=\"ds-min-w-max ds-text-right\"><span class=\"\">Sri Lanka</span></td>, <td class=\"ds-min-w-max ds-text-right\"><span class=\"\">-</span></td>, <td class=\"ds-min-w-max ds-text-right\"><span class=\"\">2022</span></td>, <td class=\"ds-min-w-max ds-text-right\"><span class=\"\">Vanuatu</span></td>, <td class=\"ds-min-w-max ds-text-right\"><span class=\"\">-</span></td>, <td class=\"ds-min-w-max ds-text-right\"><span class=\"\">2022</span></td>, <td class=\"ds-min-w-max ds-text-right\"><span class=\"\">Uganda</span></td>, <td class=\"ds-min-w-max ds-text-right\"><span class=\"\">-</span></td>, <td class=\"ds-min-w-max ds-text-right\"><span class=\"\">2022</span></td>, <td class=\"ds-min-w-max ds-text-right\"><span class=\"\">India</span></td>, <td class=\"ds-min-w-max ds-text-right\"><span class=\"\">2-1 (3)</span></td>, <td class=\"ds-min-w-max ds-text-right\"><span class=\"\">2022</span></td>, <td class=\"ds-min-w-max ds-text-right\"><span class=\"\">Bangladesh</span></td>, <td class=\"ds-min-w-max ds-text-right\"><span class=\"\">2-0 (2)</span></td>, <td class=\"ds-min-w-max ds-text-right\"><span class=\"\">2022</span></td>, <td class=\"ds-min-w-max ds-text-right\"><span class=\"\">England</span></td>, <td class=\"ds-min-w-max ds-text-right\"><span class=\"\">4-3 (7)</span></td>, <td class=\"ds-min-w-max ds-text-right\"><span class=\"\">2022/23</span></td>, <td class=\"ds-min-w-max ds-text-right\"><span class=\"\">India</span></td>, <td class=\"ds-min-w-max ds-text-right\"><span class=\"\">2-1 (3)</span></td>, <td class=\"ds-min-w-max ds-text-right\"><span class=\"\">2022/23</span></td>, <td class=\"ds-min-w-max ds-text-right\"><span class=\"\">Australia</span></td>, <td class=\"ds-min-w-max ds-text-right\"><span class=\"\">2-0 (2)</span></td>, <td class=\"ds-min-w-max ds-text-right\"><span class=\"\">2022/23</span></td>, <td class=\"ds-min-w-max ds-text-right\"><span class=\"\">Japan</span></td>, <td class=\"ds-min-w-max ds-text-right\"><span class=\"\">2-1 (3)</span></td>, <td class=\"ds-min-w-max ds-text-right\"><span class=\"\">2022/23</span></td>, <td class=\"ds-min-w-max ds-text-right\"><span class=\"\">Pakistan</span></td>, <td class=\"ds-min-w-max ds-text-right\"><span class=\"\">-</span></td>, <td class=\"ds-min-w-max ds-text-right\"><span class=\"\">2022/23</span></td>, <td class=\"ds-min-w-max ds-text-right\"><span class=\"\">England</span></td>, <td class=\"ds-min-w-max ds-text-right\"><span class=\"\">2-0 (3)</span></td>, <td class=\"ds-min-w-max ds-text-right\"><span class=\"\">2022/23</span></td>, <td class=\"ds-min-w-max ds-text-right\"><span class=\"\">Japan</span></td>, <td class=\"ds-min-w-max ds-text-right\"><span class=\"\">-</span></td>, <td class=\"ds-min-w-max ds-text-right\"><span class=\"\">2022/23</span></td>, <td class=\"ds-min-w-max ds-text-right\"><span class=\"\">Germany</span></td>, <td class=\"ds-min-w-max ds-text-right\"><span class=\"\">-</span></td>, <td class=\"ds-min-w-max ds-text-right\"><span class=\"\">2022/23</span></td>, <td class=\"ds-min-w-max ds-text-right\"><span class=\"\">Tanzania</span></td>, <td class=\"ds-min-w-max ds-text-right\"><span class=\"\">5-0 (5)</span></td>, <td class=\"ds-min-w-max ds-text-right\"><span class=\"\">2022/23</span></td>, <td class=\"ds-min-w-max ds-text-right\"><span class=\"\">England</span></td>, <td class=\"ds-min-w-max ds-text-right\"><span class=\"\">-</span></td>, <td class=\"ds-min-w-max ds-text-right\"><span class=\"\">2022/23</span></td>, <td class=\"ds-min-w-max ds-text-right\"><span class=\"\">Canada</span></td>, <td class=\"ds-min-w-max ds-text-right\"><span class=\"\">-</span></td>, <td class=\"ds-min-w-max ds-text-right\"><span class=\"\">2022/23</span></td>, <td class=\"ds-min-w-max ds-text-right\"><span class=\"\">India</span></td>, <td class=\"ds-min-w-max ds-text-right\"><span class=\"\">1-0 (3)</span></td>, <td class=\"ds-min-w-max ds-text-right\"><span class=\"\">2022/23</span></td>, <td class=\"ds-min-w-max ds-text-right\"><span class=\"\">Kenya</span></td>, <td class=\"ds-min-w-max ds-text-right\"><span class=\"\">-</span></td>, <td class=\"ds-min-w-max ds-text-right\"><span class=\"\">2022/23</span></td>, <td class=\"ds-min-w-max ds-text-right\"><span class=\"\">Tanzania</span></td>, <td class=\"ds-min-w-max ds-text-right\"><span class=\"\">-</span></td>, <td class=\"ds-min-w-max ds-text-right\"><span class=\"\">2022/23</span></td>, <td class=\"ds-min-w-max ds-text-right\"><span class=\"\">Bahrain</span></td>, <td class=\"ds-min-w-max ds-text-right\"><span class=\"\">-</span></td>, <td class=\"ds-min-w-max ds-text-right\"><span class=\"\">2022/23</span></td>, <td class=\"ds-min-w-max ds-text-right\"><span class=\"\">Uganda</span></td>, <td class=\"ds-min-w-max ds-text-right\"><span class=\"\">-</span></td>]\n"
     ]
    }
   ],
   "source": [
    "print(a)"
   ]
  },
  {
   "cell_type": "code",
   "execution_count": 10,
   "metadata": {},
   "outputs": [],
   "source": [
    "# Find all td elements with the specified class\n",
    "td_elements = soup.find_all('td', class_='ds-min-w-max ds-text-right')"
   ]
  },
  {
   "cell_type": "code",
   "execution_count": 11,
   "metadata": {},
   "outputs": [
    {
     "name": "stdout",
     "output_type": "stream",
     "text": [
      "Data has been successfully written to output_data.csv\n"
     ]
    }
   ],
   "source": [
    "import csv\n",
    "\n",
    "# Find the series name element\n",
    "series_name_element = soup.find('span', class_='ds-text-tight-s ds-font-regular ds-text-typo-primary hover:ds-text-typo-primary-hover ds-block')\n",
    "series_name = series_name_element.text.strip() if series_name_element else \"Series Name Not Found\"\n",
    "\n",
    "# Find all td elements with the specified class\n",
    "td_elements = soup.find_all('td', class_='ds-min-w-max ds-text-right')\n",
    "\n",
    "# Check if any matching td elements are found\n",
    "if td_elements:\n",
    "    # Create a list to store the data\n",
    "    data = []\n",
    "\n",
    "    # Append column names to the data list\n",
    "    data.append([\"Series Name\", \"Season\", \"Winner\", \"Margin\"])\n",
    "\n",
    "    # Append the formatted data to the list\n",
    "    for i in range(0, len(td_elements), 3):  # Assuming each record has three columns\n",
    "        season = td_elements[i].text.strip()\n",
    "        winner = td_elements[i + 1].text.strip()\n",
    "        margin = td_elements[i + 2].text.strip()\n",
    "\n",
    "        data.append([series_name, season, winner, margin])\n",
    "\n",
    "    # Specify the CSV file name\n",
    "    csv_file_name = 'output_data.csv'\n",
    "\n",
    "    # Write data to CSV\n",
    "    with open(csv_file_name, 'w', newline='', encoding='utf-8') as csv_file:\n",
    "        # Create a CSV writer object\n",
    "        csv_writer = csv.writer(csv_file)\n",
    "\n",
    "        # Write the data\n",
    "        csv_writer.writerows(data)\n",
    "\n",
    "    print(f\"Data has been successfully written to {csv_file_name}\")\n",
    "else:\n",
    "    print(\"No matching td elements found.\")\n"
   ]
  },
  {
   "cell_type": "markdown",
   "metadata": {},
   "source": [
    "England in West Indies T20I Series 2021/22"
   ]
  },
  {
   "cell_type": "code",
   "execution_count": null,
   "metadata": {},
   "outputs": [],
   "source": []
  }
 ],
 "metadata": {
  "kernelspec": {
   "display_name": "Python 3 (ipykernel)",
   "language": "python",
   "name": "python3"
  },
  "language_info": {
   "codemirror_mode": {
    "name": "ipython",
    "version": 3
   },
   "file_extension": ".py",
   "mimetype": "text/x-python",
   "name": "python",
   "nbconvert_exporter": "python",
   "pygments_lexer": "ipython3",
   "version": "3.11.4"
  }
 },
 "nbformat": 4,
 "nbformat_minor": 2
}
